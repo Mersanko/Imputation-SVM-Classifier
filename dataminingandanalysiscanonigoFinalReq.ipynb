{
  "nbformat": 4,
  "nbformat_minor": 0,
  "metadata": {
    "colab": {
      "name": "dataminingandanalysiscanonigoFinalReq.ipynb",
      "provenance": [],
      "collapsed_sections": []
    },
    "kernelspec": {
      "name": "python3",
      "display_name": "Python 3"
    },
    "language_info": {
      "name": "python"
    }
  },
  "cells": [
    {
      "cell_type": "markdown",
      "source": [
        "# Cervical Cancer Biopsy Result Classification using Support Vector Machine "
      ],
      "metadata": {
        "id": "EUTDX2byxo1p"
      }
    },
    {
      "cell_type": "code",
      "metadata": {
        "id": "3aU6zIzmER8D"
      },
      "source": [
        "import pandas as pd\n",
        "import numpy as np"
      ],
      "execution_count": null,
      "outputs": []
    },
    {
      "cell_type": "code",
      "metadata": {
        "id": "1-AV0h9tFh0-"
      },
      "source": [
        "dataset = pd.read_csv('/content/kag_risk_factors_cervical_cancer.csv')"
      ],
      "execution_count": null,
      "outputs": []
    },
    {
      "cell_type": "code",
      "source": [
        "#replace missing value with np.nan\n",
        "dataset = dataset.replace('?', np.nan)\n",
        "dataset.info()"
      ],
      "metadata": {
        "colab": {
          "base_uri": "https://localhost:8080/"
        },
        "id": "QvYKKUikYHep",
        "outputId": "8de1c563-ee4d-4e52-ba28-cf4610dbde66"
      },
      "execution_count": null,
      "outputs": [
        {
          "output_type": "stream",
          "name": "stdout",
          "text": [
            "<class 'pandas.core.frame.DataFrame'>\n",
            "RangeIndex: 858 entries, 0 to 857\n",
            "Data columns (total 36 columns):\n",
            " #   Column                              Non-Null Count  Dtype \n",
            "---  ------                              --------------  ----- \n",
            " 0   Age                                 858 non-null    int64 \n",
            " 1   Number of sexual partners           832 non-null    object\n",
            " 2   First sexual intercourse            851 non-null    object\n",
            " 3   Num of pregnancies                  802 non-null    object\n",
            " 4   Smokes                              845 non-null    object\n",
            " 5   Smokes (years)                      845 non-null    object\n",
            " 6   Smokes (packs/year)                 845 non-null    object\n",
            " 7   Hormonal Contraceptives             750 non-null    object\n",
            " 8   Hormonal Contraceptives (years)     750 non-null    object\n",
            " 9   IUD                                 741 non-null    object\n",
            " 10  IUD (years)                         741 non-null    object\n",
            " 11  STDs                                753 non-null    object\n",
            " 12  STDs (number)                       753 non-null    object\n",
            " 13  STDs:condylomatosis                 753 non-null    object\n",
            " 14  STDs:cervical condylomatosis        753 non-null    object\n",
            " 15  STDs:vaginal condylomatosis         753 non-null    object\n",
            " 16  STDs:vulvo-perineal condylomatosis  753 non-null    object\n",
            " 17  STDs:syphilis                       753 non-null    object\n",
            " 18  STDs:pelvic inflammatory disease    753 non-null    object\n",
            " 19  STDs:genital herpes                 753 non-null    object\n",
            " 20  STDs:molluscum contagiosum          753 non-null    object\n",
            " 21  STDs:AIDS                           753 non-null    object\n",
            " 22  STDs:HIV                            753 non-null    object\n",
            " 23  STDs:Hepatitis B                    753 non-null    object\n",
            " 24  STDs:HPV                            753 non-null    object\n",
            " 25  STDs: Number of diagnosis           858 non-null    int64 \n",
            " 26  STDs: Time since first diagnosis    71 non-null     object\n",
            " 27  STDs: Time since last diagnosis     71 non-null     object\n",
            " 28  Dx:Cancer                           858 non-null    int64 \n",
            " 29  Dx:CIN                              858 non-null    int64 \n",
            " 30  Dx:HPV                              858 non-null    int64 \n",
            " 31  Dx                                  858 non-null    int64 \n",
            " 32  Hinselmann                          858 non-null    int64 \n",
            " 33  Schiller                            858 non-null    int64 \n",
            " 34  Citology                            858 non-null    int64 \n",
            " 35  Biopsy                              858 non-null    int64 \n",
            "dtypes: int64(10), object(26)\n",
            "memory usage: 241.4+ KB\n"
          ]
        }
      ]
    },
    {
      "cell_type": "code",
      "source": [
        "#convert columns with string value to numeric value\n",
        "for col in list(dataset.columns):\n",
        "  dataset[col] = pd.to_numeric(dataset[col])"
      ],
      "metadata": {
        "id": "Oo61Sj2GD0FX"
      },
      "execution_count": null,
      "outputs": []
    },
    {
      "cell_type": "code",
      "metadata": {
        "id": "S5IYdkO8Ifx5",
        "colab": {
          "base_uri": "https://localhost:8080/",
          "height": 281
        },
        "outputId": "2ecfa2dc-e8b1-41d5-a287-16b92772ee2d"
      },
      "source": [
        "#get the proportion of missing values \n",
        "import matplotlib.pyplot as plt\n",
        "def plot_nas(df: pd.DataFrame):\n",
        "    if df.isnull().sum().sum() != 0:\n",
        "        na_df = 1 - (df.isnull().sum() / len(df))    \n",
        "        na_df = na_df.drop(na_df[na_df == 0].index).sort_values(ascending=False)\n",
        "        missing_data = pd.DataFrame({'Missing Ratio %' :na_df})\n",
        "        missing_data.plot(kind = \"barh\", title='Proportion of Missing Values')\n",
        "        plt.show()\n",
        "    else:\n",
        "        print('No NAs found')\n",
        "plot_nas(dataset)"
      ],
      "execution_count": null,
      "outputs": [
        {
          "output_type": "display_data",
          "data": {
            "image/png": "[encoded data removed]",
            "text/plain": [
              "<Figure size 432x288 with 1 Axes>"
            ]
          },
          "metadata": {
            "needs_background": "light"
          }
        }
      ]
    },
    {
      "cell_type": "code",
      "source": [
        "#attributes or independent variables that has more than 15% missing data will be removed\n",
        "not_important_attributes = [] \n",
        "for col in list(dataset.columns):\n",
        "  if ((dataset[col].isnull().sum()/len(dataset))*100)<85:\n",
        "    continue\n",
        "  else:\n",
        "    not_important_attributes.append(col)\n"
      ],
      "metadata": {
        "id": "HI2jrPLQ6BM-"
      },
      "execution_count": null,
      "outputs": []
    },
    {
      "cell_type": "markdown",
      "source": [
        "#####  After checking the number null or nan values in our dataframe we notice that column 'STDs: Time since first diagnosis' and 'STDs: Time since last diagnosis' has a lot of missing data. We can drop this columns because these will not give enough information for the classifier."
      ],
      "metadata": {
        "id": "mSpUDwt-Y1Uf"
      }
    },
    {
      "cell_type": "code",
      "source": [
        "dataset = dataset.drop(columns=not_important_attributes) #remove columns with a lot of missing data\n"
      ],
      "metadata": {
        "id": "GMdNSwwtd3Bv"
      },
      "execution_count": null,
      "outputs": []
    },
    {
      "cell_type": "code",
      "source": [
        "cols = dataset.columns\n",
        "\n",
        "# numeiral and\n",
        "numerical_df = ['Age', 'Number of sexual partners', 'First sexual intercourse','Num of pregnancies', 'Smokes (years)',\n",
        "                'Smokes (packs/year)','Hormonal Contraceptives (years)','IUD (years)','STDs (number)']\n",
        "categorical_df = ['Smokes','Hormonal Contraceptives','IUD','STDs','STDs:condylomatosis','STDs:cervical condylomatosis',\n",
        "                  'STDs:vaginal condylomatosis','STDs:vulvo-perineal condylomatosis', 'STDs:syphilis',\n",
        "                  'STDs:pelvic inflammatory disease', 'STDs:genital herpes','STDs:molluscum contagiosum', 'STDs:AIDS', \n",
        "                  'STDs:HIV','STDs:Hepatitis B', 'STDs:HPV', 'STDs: Number of diagnosis','Dx:Cancer', 'Dx:CIN', \n",
        "                  'Dx:HPV', 'Dx', 'Hinselmann', 'Schiller','Citology', 'Biopsy']"
      ],
      "metadata": {
        "id": "9pbP_dh1lTUV"
      },
      "execution_count": null,
      "outputs": []
    },
    {
      "cell_type": "code",
      "source": [
        "dataset_copy = dataset.copy()"
      ],
      "metadata": {
        "id": "UMzSvFGwsZ3V"
      },
      "execution_count": null,
      "outputs": []
    },
    {
      "cell_type": "code",
      "metadata": {
        "id": "Spv-hQtTFfyP"
      },
      "source": [
        "# independent variables\n",
        "X = dataset.iloc[:, :-1].values\n",
        "\n",
        "# dependent variable\n",
        "y = dataset.iloc[:, -1].values"
      ],
      "execution_count": null,
      "outputs": []
    },
    {
      "cell_type": "markdown",
      "source": [
        "##### To overcome the issue of having too many missing data points, we can use imputation after splitting. "
      ],
      "metadata": {
        "id": "I9Xx22J8elSG"
      }
    },
    {
      "cell_type": "markdown",
      "source": [
        "# Suppor Vector Machine using 80/20 dataset split ratio, utilizing either mean or mode for missing continuous value and used mode to assign missing value for missing categorical value."
      ],
      "metadata": {
        "id": "XXiuBmX51IVq"
      }
    },
    {
      "cell_type": "code",
      "source": [
        "# Fitting Kernel SVM to the Training set\n",
        "from sklearn.svm import SVC\n",
        "def playsvc(pKernel):\n",
        "    SVclassifier = SVC(kernel = pKernel, random_state = 0)\n",
        "    SVclassifier.fit(X_train, y_train)\n",
        "    # Predicting the Test set results\n",
        "    return SVclassifier.predict(X_test)\n"
      ],
      "metadata": {
        "id": "wUP-c3YY11ij"
      },
      "execution_count": null,
      "outputs": []
    },
    {
      "cell_type": "code",
      "source": [
        "#splitting the dataset into train set and test set.\n",
        "from sklearn.model_selection import train_test_split\n",
        "\n",
        "# X_train, X_test, y_train,  y_test = train_test_split(X,y,test_size=0.3,random_state=0)\n",
        "X_train, X_test, y_train,  y_test = train_test_split(X,y,test_size=0.2,random_state=0)\n",
        "\n",
        "#imputing missing value with either mean or median for numerical (or continuous) and mode for categorical of the feature after splitting the dataset\n",
        "\n",
        "\n",
        "X_train_df = pd.DataFrame(X_train)\n",
        "X_train_df.columns = cols[:-1]\n",
        "\n",
        "for col in list(X_train_df.columns):\n",
        "  if col not in categorical_df:\n",
        "    imputed_val = X_train_df[col].median()\n",
        "    X_train_df[col].fillna(imputed_val,inplace=True)\n",
        "  else:\n",
        "    X_train_df[col].fillna(X_train_df[col].mode()[0],inplace=True)\n",
        "\n",
        "y_train_df = pd.DataFrame(y_train)\n",
        "\n",
        "\n",
        "\n",
        "for col in list(y_train_df.columns):\n",
        "  if col not in categorical_df:\n",
        "    imputed_val = y_train_df[col].median()\n",
        "    y_train_df[col].fillna(imputed_val,inplace=True)\n",
        "  else:\n",
        "    y_train_df[col].fillna(y_train_df[col].mode()[0],inplace=True)\n",
        "\n",
        "X_test_df = pd.DataFrame(X_test)\n",
        "X_test_df .columns = cols[:-1]\n",
        "\n",
        "\n",
        "for col in list(X_test_df.columns):\n",
        "  if col not in categorical_df:\n",
        "    imputed_val = X_test_df[col].median()\n",
        "    X_test_df[col].fillna(imputed_val,inplace=True)\n",
        "  else:\n",
        "    X_test_df[col].fillna(X_test_df[col].mode()[0],inplace=True)\n",
        "\n",
        "\n",
        "y_test_df = pd.DataFrame(y_test)\n",
        "y_test_df.columns = ['Biopsy']\n",
        "\n",
        "for col in list(y_test_df.columns):\n",
        "  if col not in categorical_df:\n",
        "    imputed_val = y_test_df[col].median()\n",
        "    y_test_df[col].fillna(imputed_val,inplace=True)\n",
        "  else:\n",
        "    y_test_df[col].fillna(y_test_df[col].mode()[0],inplace=True)\n",
        "\n",
        "#Normalizing the valeus to help models easily spot the simalarities and difference\n",
        "from sklearn.preprocessing import StandardScaler\n",
        "scaled_X = StandardScaler()\n",
        "X_train = scaled_X.fit_transform(X_train)\n",
        "X_test = scaled_X.transform(X_test)\n",
        "\n",
        "\n",
        "#linear, rbf, poly kernels for SVM\n",
        "y_predLin = playsvc('linear')\n",
        "y_predRBF = playsvc('rbf')\n",
        "y_predPoly = playsvc('poly')\n",
        "\n",
        "#Using F1-Score\n",
        "from sklearn.metrics import f1_score\n",
        "F1_scores_median_mode = []\n",
        "scoreLin = f1_score(y_test, y_predLin, average='binary')\n",
        "scoreRBF = f1_score(y_test, y_predRBF, average='binary')\n",
        "scorePoly = f1_score(y_test, y_predPoly, average='binary')\n",
        "\n",
        "F1_scores_median_mode.append(scoreLin)\n",
        "F1_scores_median_mode.append(scoreRBF)\n",
        "F1_scores_median_mode.append(scorePoly)\n",
        "\n",
        "#Import scikit-learn metrics module for accuracy calculation\n",
        "from sklearn import metrics\n",
        "\n",
        "\n",
        "# Accuracy of the Model with linear Kernel \n",
        "print(\"Accuracy:\",metrics.accuracy_score(y_test, y_predLin))\n",
        "\n",
        "# Precision of the Model with linear Kernel\n",
        "print(\"Precision:\",metrics.precision_score(y_test, y_predLin))\n",
        "\n",
        "# Recall of the Model with linear Kernel\n",
        "print(\"Recall:\",metrics.recall_score(y_test, y_predLin))"
      ],
      "metadata": {
        "id": "Qo0Gck-aC6QI",
        "colab": {
          "base_uri": "https://localhost:8080/"
        },
        "outputId": "c8beaeaf-c854-4fd7-a2d5-279ac6f07d66"
      },
      "execution_count": null,
      "outputs": [
        {
          "output_type": "stream",
          "name": "stdout",
          "text": [
            "Accuracy: 0.9651162790697675\n",
            "Precision: 0.625\n",
            "Recall: 0.625\n"
          ]
        }
      ]
    },
    {
      "cell_type": "code",
      "source": [
        "#splitting the dataset into train set and test set.\n",
        "from sklearn.model_selection import train_test_split\n",
        "\n",
        "# X_train, X_test, y_train,  y_test = train_test_split(X,y,test_size=0.3,random_state=0)\n",
        "X_train, X_test, y_train,  y_test = train_test_split(X,y,test_size=0.2,random_state=0)\n",
        "#imputing missing value with either mean or median for numerical (or continuous) and mode for categorical of the feature after splitting the dataset\n",
        "\n",
        "X_train_df = pd.DataFrame(X_train)\n",
        "X_train_df.columns = cols[:-1]\n",
        "\n",
        "for col in list(X_train_df.columns):\n",
        "  if col not in categorical_df:\n",
        "    imputed_val = X_train_df[col].mean() #notice that we change median to mean here.\n",
        "    X_train_df[col].fillna(imputed_val,inplace=True)\n",
        "  else:\n",
        "    X_train_df[col].fillna(X_train_df[col].mode()[0],inplace=True)\n",
        "\n",
        "y_train_df = pd.DataFrame(y_train)\n",
        "\n",
        "\n",
        "\n",
        "for col in list(y_train_df.columns):\n",
        "  if col not in categorical_df:\n",
        "    imputed_val = y_train_df[col].mean() #notice that we change median to mean here.\n",
        "    y_train_df[col].fillna(imputed_val,inplace=True)\n",
        "  else:\n",
        "    y_train_df[col].fillna(y_train_df[col].mode()[0],inplace=True)\n",
        "\n",
        "X_test_df = pd.DataFrame(X_test)\n",
        "X_test_df .columns = cols[:-1]\n",
        "\n",
        "\n",
        "for col in list(X_test_df.columns):\n",
        "  if col not in categorical_df:\n",
        "    imputed_val = X_test_df[col].mean() #notice that we change median to mean here.\n",
        "    X_test_df[col].fillna(imputed_val,inplace=True)\n",
        "  else:\n",
        "    X_test_df[col].fillna(X_test_df[col].mode()[0],inplace=True)\n",
        "\n",
        "\n",
        "y_test_df = pd.DataFrame(y_test)\n",
        "y_test_df.columns = ['Biopsy']\n",
        "\n",
        "for col in list(y_test_df.columns):\n",
        "  if col not in categorical_df:\n",
        "    imputed_val = y_test_df[col].mean() #notice that we change median to mean here.\n",
        "    y_test_df[col].fillna(imputed_val,inplace=True)\n",
        "  else:\n",
        "    y_test_df[col].fillna(y_test_df[col].mode()[0],inplace=True)\n",
        "\n",
        "#Normalizing the valeus to help models easily spot the simalarities and difference\n",
        "from sklearn.preprocessing import StandardScaler\n",
        "scaled_X = StandardScaler()\n",
        "X_train = scaled_X.fit_transform(X_train)\n",
        "X_test = scaled_X.transform(X_test)\n",
        "\n",
        "# Fitting Kernel SVM to the Training set\n",
        "from sklearn.svm import SVC\n",
        "def playsvc(pKernel):\n",
        "    SVclassifier = SVC(kernel = pKernel, random_state = 0)\n",
        "    SVclassifier.fit(X_train, y_train)\n",
        "    # Predicting the Test set results\n",
        "    return SVclassifier.predict(X_test)\n",
        "\n",
        "\n",
        "#linear, rbf, poly kernels for SVM\n",
        "y_predLin = playsvc('linear')\n",
        "y_predRBF = playsvc('rbf')\n",
        "y_predPoly = playsvc('poly')\n",
        "\n",
        "\n",
        "#Using F1-Score\n",
        "from sklearn.metrics import f1_score\n",
        "F1_scores_mean_mode = []\n",
        "scoreLin = f1_score(y_test, y_predLin, average='binary')\n",
        "scoreRBF = f1_score(y_test, y_predRBF, average='binary')\n",
        "scorePoly = f1_score(y_test, y_predPoly, average='binary')\n",
        "\n",
        "F1_scores_mean_mode.append(scoreLin)\n",
        "F1_scores_mean_mode.append(scoreRBF)\n",
        "F1_scores_mean_mode.append(scorePoly)\n",
        "\n",
        "#Import scikit-learn metrics module for accuracy calculation\n",
        "from sklearn import metrics\n",
        "\n",
        "print('Accuracy, Precision and Recall of SVM with Linear Kernel, 80/20 dataset ratio split and imputing mean for missing continuous values and mode for missing categorical values ')\n",
        "# Accuracy of the Model with linear Kernel \n",
        "print(\"Accuracy:\",metrics.accuracy_score(y_test, y_predLin))\n",
        "\n",
        "# Precision of the Model with linear Kernel\n",
        "print(\"Precision:\",metrics.precision_score(y_test, y_predLin))\n",
        "\n",
        "# Recall of the Model with linear Kernel\n",
        "print(\"Recall:\",metrics.recall_score(y_test, y_predLin))"
      ],
      "metadata": {
        "colab": {
          "base_uri": "https://localhost:8080/"
        },
        "id": "XJvOxeevqeZN",
        "outputId": "d36710b2-30df-4430-d43f-89d89b39c7fe"
      },
      "execution_count": null,
      "outputs": [
        {
          "output_type": "stream",
          "name": "stdout",
          "text": [
            "Accuracy, Precision and Recall of SVM with Linear Kernel, 80/20 dataset ratio split and imputing mean for missing continuous values and mode for missing categorical values \n",
            "Accuracy: 0.9534883720930233\n",
            "Precision: 0.5\n",
            "Recall: 0.5\n"
          ]
        }
      ]
    },
    {
      "cell_type": "code",
      "source": [
        "table1 = pd.DataFrame(list(zip(F1_scores_median_mode,F1_scores_mean_mode)),columns=['F1-score using Median and Mode','F1 -core using Mean and Mode'],index = ['scoreLin','scoreRBF','scorePoly'])\n",
        "table1 = table1.style.set_caption('Table 1. Using 80/20 Dataset Split Ratio in Different Imputation Techniques')\n",
        "table1"
      ],
      "metadata": {
        "colab": {
          "base_uri": "https://localhost:8080/",
          "height": 161
        },
        "id": "8yI4fm_Sxjk0",
        "outputId": "7825efa0-73f5-4afa-c537-e281f6e54293"
      },
      "execution_count": null,
      "outputs": [
        {
          "output_type": "execute_result",
          "data": {
            "text/html": [
              "<style  type=\"text/css\" >\n",
              "</style><table id=\"T_c325289a_5bce_11ec_a7a1_0242ac1c0002\" class=\"dataframe\"><caption>Table 1. Using 80/20 Dataset Split Ratio in Different Imputation Techniques</caption><thead>    <tr>        <th class=\"blank level0\" ></th>        <th class=\"col_heading level0 col0\" >F1-score using Median and Mode</th>        <th class=\"col_heading level0 col1\" >F1 -core using Mean and Mode</th>    </tr></thead><tbody>\n",
              "                <tr>\n",
              "                        <th id=\"T_c325289a_5bce_11ec_a7a1_0242ac1c0002level0_row0\" class=\"row_heading level0 row0\" >scoreLin</th>\n",
              "                        <td id=\"T_c325289a_5bce_11ec_a7a1_0242ac1c0002row0_col0\" class=\"data row0 col0\" >0.625000</td>\n",
              "                        <td id=\"T_c325289a_5bce_11ec_a7a1_0242ac1c0002row0_col1\" class=\"data row0 col1\" >0.500000</td>\n",
              "            </tr>\n",
              "            <tr>\n",
              "                        <th id=\"T_c325289a_5bce_11ec_a7a1_0242ac1c0002level0_row1\" class=\"row_heading level0 row1\" >scoreRBF</th>\n",
              "                        <td id=\"T_c325289a_5bce_11ec_a7a1_0242ac1c0002row1_col0\" class=\"data row1 col0\" >0.181818</td>\n",
              "                        <td id=\"T_c325289a_5bce_11ec_a7a1_0242ac1c0002row1_col1\" class=\"data row1 col1\" >0.181818</td>\n",
              "            </tr>\n",
              "            <tr>\n",
              "                        <th id=\"T_c325289a_5bce_11ec_a7a1_0242ac1c0002level0_row2\" class=\"row_heading level0 row2\" >scorePoly</th>\n",
              "                        <td id=\"T_c325289a_5bce_11ec_a7a1_0242ac1c0002row2_col0\" class=\"data row2 col0\" >0.363636</td>\n",
              "                        <td id=\"T_c325289a_5bce_11ec_a7a1_0242ac1c0002row2_col1\" class=\"data row2 col1\" >0.363636</td>\n",
              "            </tr>\n",
              "    </tbody></table>"
            ],
            "text/plain": [
              "<pandas.io.formats.style.Styler at 0x7fc0873962d0>"
            ]
          },
          "metadata": {},
          "execution_count": 14
        }
      ]
    },
    {
      "cell_type": "markdown",
      "source": [
        "##### We can notice that the evaluation metrics are still the same. Thus, in this type of dataset, it doesn't matter if you impute the mean or median on missing continuous values. The potential reason for this unchanged metric result is that the mean and median of the continuous are similar or almost the same. But dataset split ratio affects the performance of the model, we can see that in this case 70/30 is provides a better performance than 80/20.\n",
        "\n"
      ],
      "metadata": {
        "id": "1oyTfuBgs8u1"
      }
    },
    {
      "cell_type": "markdown",
      "source": [
        "# Suppor Vector Machine using 70/30 dataset split ratio, utilizing either mean or mode for missing continuous value and used mode to assign missing value for missing categorical value."
      ],
      "metadata": {
        "id": "7CE74D5y5JJq"
      }
    },
    {
      "cell_type": "code",
      "source": [
        "#splitting the dataset into train set and test set.\n",
        "from sklearn.model_selection import train_test_split\n",
        "\n",
        "X_train, X_test, y_train,  y_test = train_test_split(X,y,test_size=0.3,random_state=0)\n",
        "# X_train, X_test, y_train,  y_test = train_test_split(X,y,test_size=0.2,random_state=0)\n",
        "\n",
        "#imputing missing value with either mean or median for numerical (or continuous) and mode for categorical of the feature after splitting the dataset\n",
        "\n",
        "\n",
        "X_train_df = pd.DataFrame(X_train)\n",
        "X_train_df.columns = cols[:-1]\n",
        "\n",
        "for col in list(X_train_df.columns):\n",
        "  if col not in categorical_df:\n",
        "    imputed_val = X_train_df[col].median()\n",
        "    X_train_df[col].fillna(imputed_val,inplace=True)\n",
        "  else:\n",
        "    X_train_df[col].fillna(X_train_df[col].mode()[0],inplace=True)\n",
        "\n",
        "y_train_df = pd.DataFrame(y_train)\n",
        "\n",
        "\n",
        "\n",
        "for col in list(y_train_df.columns):\n",
        "  if col not in categorical_df:\n",
        "    imputed_val = y_train_df[col].median()\n",
        "    y_train_df[col].fillna(imputed_val,inplace=True)\n",
        "  else:\n",
        "    y_train_df[col].fillna(y_train_df[col].mode()[0],inplace=True)\n",
        "\n",
        "X_test_df = pd.DataFrame(X_test)\n",
        "X_test_df .columns = cols[:-1]\n",
        "\n",
        "\n",
        "for col in list(X_test_df.columns):\n",
        "  if col not in categorical_df:\n",
        "    imputed_val = X_test_df[col].median()\n",
        "    X_test_df[col].fillna(imputed_val,inplace=True)\n",
        "  else:\n",
        "    X_test_df[col].fillna(X_test_df[col].mode()[0],inplace=True)\n",
        "\n",
        "\n",
        "y_test_df = pd.DataFrame(y_test)\n",
        "y_test_df.columns = ['Biopsy']\n",
        "\n",
        "for col in list(y_test_df.columns):\n",
        "  if col not in categorical_df:\n",
        "    imputed_val = y_test_df[col].median()\n",
        "    y_test_df[col].fillna(imputed_val,inplace=True)\n",
        "  else:\n",
        "    y_test_df[col].fillna(y_test_df[col].mode()[0],inplace=True)\n",
        "\n",
        "#Normalizing the valeus to help models easily spot the simalarities and difference\n",
        "from sklearn.preprocessing import StandardScaler\n",
        "scaled_X = StandardScaler()\n",
        "X_train = scaled_X.fit_transform(X_train)\n",
        "X_test = scaled_X.transform(X_test)\n",
        "\n",
        "\n",
        "#linear, rbf, poly kernels for SVM\n",
        "y_predLin = playsvc('linear')\n",
        "y_predRBF = playsvc('rbf')\n",
        "y_predPoly = playsvc('poly')\n",
        "\n",
        "#Using F1-Score\n",
        "from sklearn.metrics import f1_score\n",
        "F1_scores_median_mode = []\n",
        "scoreLin = f1_score(y_test, y_predLin, average='binary')\n",
        "scoreRBF = f1_score(y_test, y_predRBF, average='binary')\n",
        "scorePoly = f1_score(y_test, y_predPoly, average='binary')\n",
        "\n",
        "F1_scores_median_mode.append(scoreLin)\n",
        "F1_scores_median_mode.append(scoreRBF)\n",
        "F1_scores_median_mode.append(scorePoly)\n",
        "\n",
        "#Import scikit-learn metrics module for accuracy calculation\n",
        "from sklearn import metrics\n",
        "\n",
        "\n",
        "# Accuracy of the Model with linear Kernel \n",
        "print(\"Accuracy:\",metrics.accuracy_score(y_test, y_predLin))\n",
        "\n",
        "# Precision of the Model with linear Kernel\n",
        "print(\"Precision:\",metrics.precision_score(y_test, y_predLin))\n",
        "\n",
        "# Recall of the Model with linear Kernel\n",
        "print(\"Recall:\",metrics.recall_score(y_test, y_predLin))"
      ],
      "metadata": {
        "colab": {
          "base_uri": "https://localhost:8080/"
        },
        "id": "PTM35s0J51ZL",
        "outputId": "e121cc19-f484-435b-e227-91c696b87ca8"
      },
      "execution_count": null,
      "outputs": [
        {
          "output_type": "stream",
          "name": "stdout",
          "text": [
            "Accuracy: 0.9728682170542635\n",
            "Precision: 0.6875\n",
            "Recall: 0.8461538461538461\n"
          ]
        }
      ]
    },
    {
      "cell_type": "code",
      "source": [
        "#splitting the dataset into train set and test set.\n",
        "from sklearn.model_selection import train_test_split\n",
        "\n",
        "X_train, X_test, y_train,  y_test = train_test_split(X,y,test_size=0.3,random_state=0)\n",
        "# X_train, X_test, y_train,  y_test = train_test_split(X,y,test_size=0.2,random_state=0)\n",
        "\n",
        "#imputing missing value with either mean or median for numerical (or continuous) and mode for categorical of the feature after splitting the dataset\n",
        "\n",
        "\n",
        "X_train_df = pd.DataFrame(X_train)\n",
        "X_train_df.columns = cols[:-1]\n",
        "\n",
        "for col in list(X_train_df.columns):\n",
        "  if col not in categorical_df:\n",
        "    imputed_val = X_train_df[col].mean()\n",
        "    X_train_df[col].fillna(imputed_val,inplace=True)\n",
        "  else:\n",
        "    X_train_df[col].fillna(X_train_df[col].mode()[0],inplace=True)\n",
        "\n",
        "y_train_df = pd.DataFrame(y_train)\n",
        "\n",
        "\n",
        "\n",
        "for col in list(y_train_df.columns):\n",
        "  if col not in categorical_df:\n",
        "    imputed_val = y_train_df[col].mean()\n",
        "    y_train_df[col].fillna(imputed_val,inplace=True)\n",
        "  else:\n",
        "    y_train_df[col].fillna(y_train_df[col].mode()[0],inplace=True)\n",
        "\n",
        "X_test_df = pd.DataFrame(X_test)\n",
        "X_test_df .columns = cols[:-1]\n",
        "\n",
        "\n",
        "for col in list(X_test_df.columns):\n",
        "  if col not in categorical_df:\n",
        "    imputed_val = X_test_df[col].mean()\n",
        "    X_test_df[col].fillna(imputed_val,inplace=True)\n",
        "  else:\n",
        "    X_test_df[col].fillna(X_test_df[col].mode()[0],inplace=True)\n",
        "\n",
        "\n",
        "y_test_df = pd.DataFrame(y_test)\n",
        "y_test_df.columns = ['Biopsy']\n",
        "\n",
        "for col in list(y_test_df.columns):\n",
        "  if col not in categorical_df:\n",
        "    imputed_val = y_test_df[col].mean()\n",
        "    y_test_df[col].fillna(imputed_val,inplace=True)\n",
        "  else:\n",
        "    y_test_df[col].fillna(y_test_df[col].mode()[0],inplace=True)\n",
        "\n",
        "#Normalizing the valeus to help models easily spot the simalarities and difference\n",
        "from sklearn.preprocessing import StandardScaler\n",
        "scaled_X = StandardScaler()\n",
        "X_train = scaled_X.fit_transform(X_train)\n",
        "X_test = scaled_X.transform(X_test)\n",
        "\n",
        "\n",
        "#linear, rbf, poly kernels for SVM\n",
        "y_predLin = playsvc('linear')\n",
        "y_predRBF = playsvc('rbf')\n",
        "y_predPoly = playsvc('poly')\n",
        "\n",
        "#Using F1-Score\n",
        "from sklearn.metrics import f1_score\n",
        "F1_scores_median_mode = []\n",
        "scoreLin = f1_score(y_test, y_predLin, average='binary')\n",
        "scoreRBF = f1_score(y_test, y_predRBF, average='binary')\n",
        "scorePoly = f1_score(y_test, y_predPoly, average='binary')\n",
        "\n",
        "F1_scores_median_mode.append(scoreLin)\n",
        "F1_scores_median_mode.append(scoreRBF)\n",
        "F1_scores_median_mode.append(scorePoly)\n",
        "\n",
        "#Import scikit-learn metrics module for accuracy calculation\n",
        "from sklearn import metrics\n",
        "\n",
        "\n",
        "# Accuracy of the Model with linear Kernel \n",
        "print(\"Accuracy:\",metrics.accuracy_score(y_test, y_predLin))\n",
        "\n",
        "# Precision of the Model with linear Kernel\n",
        "print(\"Precision:\",metrics.precision_score(y_test, y_predLin))\n",
        "\n",
        "# Recall of the Model with linear Kernel\n",
        "print(\"Recall:\",metrics.recall_score(y_test, y_predLin))"
      ],
      "metadata": {
        "colab": {
          "base_uri": "https://localhost:8080/"
        },
        "id": "mRZ7zT5t5O-W",
        "outputId": "53ce7961-be18-4424-9e82-3b9725f4a289"
      },
      "execution_count": null,
      "outputs": [
        {
          "output_type": "stream",
          "name": "stdout",
          "text": [
            "Accuracy: 0.9728682170542635\n",
            "Precision: 0.6875\n",
            "Recall: 0.8461538461538461\n"
          ]
        }
      ]
    },
    {
      "cell_type": "code",
      "source": [
        "table2 = pd.DataFrame(list(zip(F1_scores_median_mode,F1_scores_mean_mode)),columns=['F1-score using Median and Mode','F1 -core using Mean and Mode'],index = ['scoreLin','scoreRBF','scorePoly'])\n",
        "\n",
        "table2 = table2.style.set_caption('Table 2. Using 70/30 Dataset Split Ratio in Different Imputation Techniques')\n",
        "table2"
      ],
      "metadata": {
        "colab": {
          "base_uri": "https://localhost:8080/",
          "height": 161
        },
        "id": "QCfLyPDD6DPq",
        "outputId": "56a25920-6538-4b97-975d-a61fb61e8713"
      },
      "execution_count": null,
      "outputs": [
        {
          "output_type": "execute_result",
          "data": {
            "text/html": [
              "<style  type=\"text/css\" >\n",
              "</style><table id=\"T_c3596f42_5bce_11ec_a7a1_0242ac1c0002\" class=\"dataframe\"><caption>Table 2. Using 70/30 Dataset Split Ratio in Different Imputation Techniques</caption><thead>    <tr>        <th class=\"blank level0\" ></th>        <th class=\"col_heading level0 col0\" >F1-score using Median and Mode</th>        <th class=\"col_heading level0 col1\" >F1 -core using Mean and Mode</th>    </tr></thead><tbody>\n",
              "                <tr>\n",
              "                        <th id=\"T_c3596f42_5bce_11ec_a7a1_0242ac1c0002level0_row0\" class=\"row_heading level0 row0\" >scoreLin</th>\n",
              "                        <td id=\"T_c3596f42_5bce_11ec_a7a1_0242ac1c0002row0_col0\" class=\"data row0 col0\" >0.758621</td>\n",
              "                        <td id=\"T_c3596f42_5bce_11ec_a7a1_0242ac1c0002row0_col1\" class=\"data row0 col1\" >0.500000</td>\n",
              "            </tr>\n",
              "            <tr>\n",
              "                        <th id=\"T_c3596f42_5bce_11ec_a7a1_0242ac1c0002level0_row1\" class=\"row_heading level0 row1\" >scoreRBF</th>\n",
              "                        <td id=\"T_c3596f42_5bce_11ec_a7a1_0242ac1c0002row1_col0\" class=\"data row1 col0\" >0.500000</td>\n",
              "                        <td id=\"T_c3596f42_5bce_11ec_a7a1_0242ac1c0002row1_col1\" class=\"data row1 col1\" >0.181818</td>\n",
              "            </tr>\n",
              "            <tr>\n",
              "                        <th id=\"T_c3596f42_5bce_11ec_a7a1_0242ac1c0002level0_row2\" class=\"row_heading level0 row2\" >scorePoly</th>\n",
              "                        <td id=\"T_c3596f42_5bce_11ec_a7a1_0242ac1c0002row2_col0\" class=\"data row2 col0\" >0.476190</td>\n",
              "                        <td id=\"T_c3596f42_5bce_11ec_a7a1_0242ac1c0002row2_col1\" class=\"data row2 col1\" >0.363636</td>\n",
              "            </tr>\n",
              "    </tbody></table>"
            ],
            "text/plain": [
              "<pandas.io.formats.style.Styler at 0x7fc0870a96d0>"
            ]
          },
          "metadata": {},
          "execution_count": 17
        }
      ]
    },
    {
      "cell_type": "markdown",
      "source": [
        "# Conclusion"
      ],
      "metadata": {
        "id": "9HHBWoS772ri"
      }
    },
    {
      "cell_type": "markdown",
      "source": [
        "<div style=\"text-align: right\">Based on table 1, which contains the evaluation of the SVM model that uses an 80/20 split ratio with various methods of imputing missing values, the lowest f1-score is 18.18 percent and the highest is around 62.50 percent, demonstrating that the Linear Kernel is the best suitable kernel of the Support Vector Machine used in this case and imputing continuous missing value with mean results the highest f1-score. And, as shown in table 2, which contains the evaluation of the SVM model that uses a 70/30 split ratio with various methods of imputing missing values, the lowest f1-score is 18.18 percent and the highest is around 75.86 percent, demonstrating that the Linear Kernel is the best suitable kernel of the Support Vector Machine used in this case and  imputing the median to a missing numerical or continuous value improves the SVM classifier's performance. Thus, the dataset split ratio, the kind of kernel used in SVM, and the value imputed if missing values exist all have an effect on the accuracy or overall performance of the SVM classifier.</div>"
      ],
      "metadata": {
        "id": "Fk1d5TrK76xq"
      }
    }
  ]
}